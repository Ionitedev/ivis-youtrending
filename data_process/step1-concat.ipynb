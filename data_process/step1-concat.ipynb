{
 "cells": [
  {
   "cell_type": "code",
   "execution_count": 1,
   "metadata": {},
   "outputs": [],
   "source": [
    "import pandas as pd\n",
    "import csv\n",
    "\n",
    "# from langdetect import detect, DetectorFactory\n",
    "import logging\n",
    "# DetectorFactory.seed = 0"
   ]
  },
  {
   "cell_type": "code",
   "execution_count": 2,
   "metadata": {},
   "outputs": [],
   "source": [
    "# br\n",
    "br_data = pd.read_csv(\"./csv/BR_youtube_trending_data.csv\", encoding=\"utf-8\")\n",
    "br_data.insert(0, \"country\", \"br\")"
   ]
  },
  {
   "cell_type": "code",
   "execution_count": 3,
   "metadata": {},
   "outputs": [],
   "source": [
    "# ca\n",
    "ca_data = pd.read_csv(\"./csv/CA_youtube_trending_data.csv\")\n",
    "ca_data.insert(0, \"country\", \"ca\")"
   ]
  },
  {
   "cell_type": "code",
   "execution_count": 4,
   "metadata": {},
   "outputs": [],
   "source": [
    "# de\n",
    "de_data = pd.read_csv(\"./csv/DE_youtube_trending_data.csv\")\n",
    "de_data.insert(0, \"country\", \"de\")"
   ]
  },
  {
   "cell_type": "code",
   "execution_count": 5,
   "metadata": {},
   "outputs": [],
   "source": [
    "# fr\n",
    "fr_data = pd.read_csv(\"./csv/FR_youtube_trending_data.csv\")\n",
    "fr_data.insert(0, \"country\", \"fr\")"
   ]
  },
  {
   "cell_type": "code",
   "execution_count": 6,
   "metadata": {},
   "outputs": [],
   "source": [
    "# gb\n",
    "gb_data = pd.read_csv(\"./csv/GB_youtube_trending_data.csv\")\n",
    "gb_data.insert(0, \"country\", \"gb\")\n",
    "# gb_data.insert(0, 'lang', 'en')"
   ]
  },
  {
   "cell_type": "code",
   "execution_count": 7,
   "metadata": {},
   "outputs": [],
   "source": [
    "# in\n",
    "in_data = pd.read_csv(\"./csv/IN_youtube_trending_data.csv\")\n",
    "in_data.insert(0, \"country\", \"in\")\n",
    "# in_data.insert(0, 'lang', 'en')"
   ]
  },
  {
   "cell_type": "code",
   "execution_count": 8,
   "metadata": {},
   "outputs": [],
   "source": [
    "# jp\n",
    "jp_data = pd.read_csv(\"./csv/JP_youtube_trending_data.csv\")\n",
    "jp_data.insert(0, \"country\",\"jp\")"
   ]
  },
  {
   "cell_type": "code",
   "execution_count": 9,
   "metadata": {},
   "outputs": [],
   "source": [
    "# kr\n",
    "kr_data = pd.read_csv(\"./csv/KR_youtube_trending_data.csv\")\n",
    "kr_data.insert(0, \"country\", \"kr\")\n",
    "# kr_data.insert(0, 'lang', 'en')"
   ]
  },
  {
   "cell_type": "code",
   "execution_count": 10,
   "metadata": {},
   "outputs": [],
   "source": [
    "# mx\n",
    "mx_data = pd.read_csv(\"./csv/MX_youtube_trending_data.csv\")\n",
    "mx_data.insert(0, \"country\", \"mx\")\n",
    "# mx_data.insert(0, 'lang', 'en')"
   ]
  },
  {
   "cell_type": "code",
   "execution_count": 11,
   "metadata": {},
   "outputs": [],
   "source": [
    "# ru\n",
    "ru_data = pd.read_csv(\"./csv/RU_youtube_trending_data.csv\")\n",
    "ru_data.insert(0, \"country\", \"ru\")"
   ]
  },
  {
   "cell_type": "code",
   "execution_count": 12,
   "metadata": {},
   "outputs": [],
   "source": [
    "# us\n",
    "us_data = pd.read_csv(\"./csv/US_youtube_trending_data.csv\")\n",
    "us_data.insert(0, \"country\", \"us\")"
   ]
  },
  {
   "cell_type": "code",
   "execution_count": 13,
   "metadata": {},
   "outputs": [],
   "source": [
    "# drop columns\n",
    "\n",
    "# br_data = drop_cols(br_data)\n",
    "# ca_data = drop_cols(ca_data)\n",
    "# de_data = drop_cols(de_data)\n",
    "# fr_data = drop_cols(fr_data)\n",
    "# gb_data = drop_cols(gb_data)\n",
    "# in_data = drop_cols(in_data)\n",
    "# jp_data = drop_cols(jp_data)\n",
    "# kr_data = drop_cols(kr_data)\n",
    "# mx_data = drop_cols(mx_data)\n",
    "# ru_data = drop_cols(ru_data)\n",
    "# us_data = drop_cols(us_data)"
   ]
  },
  {
   "cell_type": "code",
   "execution_count": 14,
   "metadata": {},
   "outputs": [],
   "source": [
    "all_frames = [br_data, ca_data, de_data, fr_data, gb_data, in_data, jp_data, kr_data, mx_data, ru_data, us_data]\n",
    "all_data = pd.concat(all_frames)"
   ]
  },
  {
   "cell_type": "code",
   "execution_count": 15,
   "metadata": {},
   "outputs": [],
   "source": [
    "def drop_attr(data):\n",
    "    data = data.drop([\"description\"], axis=1)\n",
    "    data = data.drop([\"channelId\"], axis=1)\n",
    "    data = data.drop([\"ratings_disabled\"], axis=1)\n",
    "    data = data.drop([\"comments_disabled\"], axis=1)\n",
    "    return data"
   ]
  },
  {
   "cell_type": "code",
   "execution_count": 16,
   "metadata": {},
   "outputs": [],
   "source": [
    "all_data = drop_attr(all_data)"
   ]
  },
  {
   "cell_type": "code",
   "execution_count": 17,
   "metadata": {
    "scrolled": true
   },
   "outputs": [
    {
     "data": {
      "text/html": [
       "<div>\n",
       "<style scoped>\n",
       "    .dataframe tbody tr th:only-of-type {\n",
       "        vertical-align: middle;\n",
       "    }\n",
       "\n",
       "    .dataframe tbody tr th {\n",
       "        vertical-align: top;\n",
       "    }\n",
       "\n",
       "    .dataframe thead th {\n",
       "        text-align: right;\n",
       "    }\n",
       "</style>\n",
       "<table border=\"1\" class=\"dataframe\">\n",
       "  <thead>\n",
       "    <tr style=\"text-align: right;\">\n",
       "      <th></th>\n",
       "      <th>country</th>\n",
       "      <th>video_id</th>\n",
       "      <th>title</th>\n",
       "      <th>publishedAt</th>\n",
       "      <th>channelTitle</th>\n",
       "      <th>categoryId</th>\n",
       "      <th>trending_date</th>\n",
       "      <th>tags</th>\n",
       "      <th>view_count</th>\n",
       "      <th>likes</th>\n",
       "      <th>dislikes</th>\n",
       "      <th>comment_count</th>\n",
       "      <th>thumbnail_link</th>\n",
       "    </tr>\n",
       "  </thead>\n",
       "  <tbody>\n",
       "    <tr>\n",
       "      <th>0</th>\n",
       "      <td>br</td>\n",
       "      <td>s9FH4rDMvds</td>\n",
       "      <td>LEVEI UM FORA? FINGI ESTAR APAIXONADO POR ELA!</td>\n",
       "      <td>2020-08-11T22:21:49Z</td>\n",
       "      <td>Pietro Guedes</td>\n",
       "      <td>22</td>\n",
       "      <td>2020-08-12T00:00:00Z</td>\n",
       "      <td>pietro|guedes|ingrid|ohara|pingrid|vlog|amigos...</td>\n",
       "      <td>263835</td>\n",
       "      <td>85095</td>\n",
       "      <td>487</td>\n",
       "      <td>4500</td>\n",
       "      <td>https://i.ytimg.com/vi/s9FH4rDMvds/default.jpg</td>\n",
       "    </tr>\n",
       "    <tr>\n",
       "      <th>1</th>\n",
       "      <td>br</td>\n",
       "      <td>jbGRowa5tIk</td>\n",
       "      <td>ITZY “Not Shy” M/V TEASER</td>\n",
       "      <td>2020-08-11T15:00:13Z</td>\n",
       "      <td>JYP Entertainment</td>\n",
       "      <td>10</td>\n",
       "      <td>2020-08-12T00:00:00Z</td>\n",
       "      <td>JYP Entertainment|JYP|ITZY|있지|ITZY Video|ITZY ...</td>\n",
       "      <td>6000070</td>\n",
       "      <td>714310</td>\n",
       "      <td>15176</td>\n",
       "      <td>31040</td>\n",
       "      <td>https://i.ytimg.com/vi/jbGRowa5tIk/default.jpg</td>\n",
       "    </tr>\n",
       "    <tr>\n",
       "      <th>2</th>\n",
       "      <td>br</td>\n",
       "      <td>3EfkCrXKZNs</td>\n",
       "      <td>Oh Juliana PARÓDIA - MC Niack</td>\n",
       "      <td>2020-08-10T14:59:00Z</td>\n",
       "      <td>As Irmãs Mota</td>\n",
       "      <td>22</td>\n",
       "      <td>2020-08-12T00:00:00Z</td>\n",
       "      <td>OH JULIANA PARÓDIA|MC Niack PARÓDIA|PARÓDIAS|A...</td>\n",
       "      <td>2296748</td>\n",
       "      <td>39761</td>\n",
       "      <td>5484</td>\n",
       "      <td>0</td>\n",
       "      <td>https://i.ytimg.com/vi/3EfkCrXKZNs/default.jpg</td>\n",
       "    </tr>\n",
       "    <tr>\n",
       "      <th>3</th>\n",
       "      <td>br</td>\n",
       "      <td>gBjox7vn3-g</td>\n",
       "      <td>Contos de Runeterra: Targon | A Estrada Tortuosa</td>\n",
       "      <td>2020-08-11T15:00:09Z</td>\n",
       "      <td>League of Legends BR</td>\n",
       "      <td>20</td>\n",
       "      <td>2020-08-12T00:00:00Z</td>\n",
       "      <td>Riot|Riot Games|League of Legends|lol|trailer|...</td>\n",
       "      <td>300510</td>\n",
       "      <td>46222</td>\n",
       "      <td>242</td>\n",
       "      <td>2748</td>\n",
       "      <td>https://i.ytimg.com/vi/gBjox7vn3-g/default.jpg</td>\n",
       "    </tr>\n",
       "    <tr>\n",
       "      <th>4</th>\n",
       "      <td>br</td>\n",
       "      <td>npoUGx7UW7o</td>\n",
       "      <td>Entrevista com Thammy Miranda | The Noite (10/...</td>\n",
       "      <td>2020-08-11T20:04:02Z</td>\n",
       "      <td>The Noite com Danilo Gentili</td>\n",
       "      <td>23</td>\n",
       "      <td>2020-08-12T00:00:00Z</td>\n",
       "      <td>The Noite|The Noite com Danilo Gentili|Danilo ...</td>\n",
       "      <td>327235</td>\n",
       "      <td>22059</td>\n",
       "      <td>3972</td>\n",
       "      <td>2751</td>\n",
       "      <td>https://i.ytimg.com/vi/npoUGx7UW7o/default.jpg</td>\n",
       "    </tr>\n",
       "    <tr>\n",
       "      <th>...</th>\n",
       "      <td>...</td>\n",
       "      <td>...</td>\n",
       "      <td>...</td>\n",
       "      <td>...</td>\n",
       "      <td>...</td>\n",
       "      <td>...</td>\n",
       "      <td>...</td>\n",
       "      <td>...</td>\n",
       "      <td>...</td>\n",
       "      <td>...</td>\n",
       "      <td>...</td>\n",
       "      <td>...</td>\n",
       "      <td>...</td>\n",
       "    </tr>\n",
       "    <tr>\n",
       "      <th>447005</th>\n",
       "      <td>us</td>\n",
       "      <td>FGCPL_0YOYg</td>\n",
       "      <td>I'm Back... and I Have Something to Tell You</td>\n",
       "      <td>2021-03-01T18:00:10Z</td>\n",
       "      <td>CrankGameplays</td>\n",
       "      <td>24</td>\n",
       "      <td>2021-03-09T00:00:00Z</td>\n",
       "      <td>CrankGameplays|Crank Gameplays|break|youtuber ...</td>\n",
       "      <td>992338</td>\n",
       "      <td>141314</td>\n",
       "      <td>614</td>\n",
       "      <td>12578</td>\n",
       "      <td>https://i.ytimg.com/vi/FGCPL_0YOYg/default.jpg</td>\n",
       "    </tr>\n",
       "    <tr>\n",
       "      <th>447006</th>\n",
       "      <td>us</td>\n",
       "      <td>Fbr55An8VPI</td>\n",
       "      <td>HIGHLIGHTS | Canelo Alvarez vs. Avni Yildirim</td>\n",
       "      <td>2021-02-28T04:39:19Z</td>\n",
       "      <td>DAZN Boxing</td>\n",
       "      <td>17</td>\n",
       "      <td>2021-03-09T00:00:00Z</td>\n",
       "      <td>dazn|boxing|highlights|full fight|ko|knockout|...</td>\n",
       "      <td>5792329</td>\n",
       "      <td>59960</td>\n",
       "      <td>6590</td>\n",
       "      <td>10029</td>\n",
       "      <td>https://i.ytimg.com/vi/Fbr55An8VPI/default.jpg</td>\n",
       "    </tr>\n",
       "    <tr>\n",
       "      <th>447007</th>\n",
       "      <td>us</td>\n",
       "      <td>cOzOXMfG3GQ</td>\n",
       "      <td>Amy Poehler and Tina Fey's Opening Monologue -...</td>\n",
       "      <td>2021-03-01T03:06:03Z</td>\n",
       "      <td>NBC</td>\n",
       "      <td>24</td>\n",
       "      <td>2021-03-09T00:00:00Z</td>\n",
       "      <td>NBC|NBC network|tv|tv shows|entertainment|epis...</td>\n",
       "      <td>1180311</td>\n",
       "      <td>12383</td>\n",
       "      <td>3376</td>\n",
       "      <td>2384</td>\n",
       "      <td>https://i.ytimg.com/vi/cOzOXMfG3GQ/default.jpg</td>\n",
       "    </tr>\n",
       "    <tr>\n",
       "      <th>447008</th>\n",
       "      <td>us</td>\n",
       "      <td>VYEtNWp5VgA</td>\n",
       "      <td>20 WOMEN VS 1 SIDEMEN: HARRY EDITION</td>\n",
       "      <td>2021-02-28T18:23:08Z</td>\n",
       "      <td>Sidemen</td>\n",
       "      <td>24</td>\n",
       "      <td>2021-03-09T00:00:00Z</td>\n",
       "      <td>sidemen|sidemen sunday|#sidemensunday</td>\n",
       "      <td>12185918</td>\n",
       "      <td>834816</td>\n",
       "      <td>3940</td>\n",
       "      <td>63330</td>\n",
       "      <td>https://i.ytimg.com/vi/VYEtNWp5VgA/default.jpg</td>\n",
       "    </tr>\n",
       "    <tr>\n",
       "      <th>447009</th>\n",
       "      <td>us</td>\n",
       "      <td>mKxuIKTr-5w</td>\n",
       "      <td>THE LITTEST 7ON7 TOURNAMENT YOULL EVER SEE.. (...</td>\n",
       "      <td>2021-02-28T21:54:25Z</td>\n",
       "      <td>Deestroying</td>\n",
       "      <td>24</td>\n",
       "      <td>2021-03-09T00:00:00Z</td>\n",
       "      <td>[None]</td>\n",
       "      <td>1268004</td>\n",
       "      <td>53940</td>\n",
       "      <td>356</td>\n",
       "      <td>2914</td>\n",
       "      <td>https://i.ytimg.com/vi/mKxuIKTr-5w/default.jpg</td>\n",
       "    </tr>\n",
       "  </tbody>\n",
       "</table>\n",
       "<p>447010 rows × 13 columns</p>\n",
       "</div>"
      ],
      "text/plain": [
       "       country     video_id  \\\n",
       "0           br  s9FH4rDMvds   \n",
       "1           br  jbGRowa5tIk   \n",
       "2           br  3EfkCrXKZNs   \n",
       "3           br  gBjox7vn3-g   \n",
       "4           br  npoUGx7UW7o   \n",
       "...        ...          ...   \n",
       "447005      us  FGCPL_0YOYg   \n",
       "447006      us  Fbr55An8VPI   \n",
       "447007      us  cOzOXMfG3GQ   \n",
       "447008      us  VYEtNWp5VgA   \n",
       "447009      us  mKxuIKTr-5w   \n",
       "\n",
       "                                                    title  \\\n",
       "0          LEVEI UM FORA? FINGI ESTAR APAIXONADO POR ELA!   \n",
       "1                               ITZY “Not Shy” M/V TEASER   \n",
       "2                           Oh Juliana PARÓDIA - MC Niack   \n",
       "3        Contos de Runeterra: Targon | A Estrada Tortuosa   \n",
       "4       Entrevista com Thammy Miranda | The Noite (10/...   \n",
       "...                                                   ...   \n",
       "447005       I'm Back... and I Have Something to Tell You   \n",
       "447006      HIGHLIGHTS | Canelo Alvarez vs. Avni Yildirim   \n",
       "447007  Amy Poehler and Tina Fey's Opening Monologue -...   \n",
       "447008               20 WOMEN VS 1 SIDEMEN: HARRY EDITION   \n",
       "447009  THE LITTEST 7ON7 TOURNAMENT YOULL EVER SEE.. (...   \n",
       "\n",
       "                 publishedAt                  channelTitle  categoryId  \\\n",
       "0       2020-08-11T22:21:49Z                 Pietro Guedes          22   \n",
       "1       2020-08-11T15:00:13Z             JYP Entertainment          10   \n",
       "2       2020-08-10T14:59:00Z                 As Irmãs Mota          22   \n",
       "3       2020-08-11T15:00:09Z          League of Legends BR          20   \n",
       "4       2020-08-11T20:04:02Z  The Noite com Danilo Gentili          23   \n",
       "...                      ...                           ...         ...   \n",
       "447005  2021-03-01T18:00:10Z                CrankGameplays          24   \n",
       "447006  2021-02-28T04:39:19Z                   DAZN Boxing          17   \n",
       "447007  2021-03-01T03:06:03Z                           NBC          24   \n",
       "447008  2021-02-28T18:23:08Z                       Sidemen          24   \n",
       "447009  2021-02-28T21:54:25Z                   Deestroying          24   \n",
       "\n",
       "               trending_date  \\\n",
       "0       2020-08-12T00:00:00Z   \n",
       "1       2020-08-12T00:00:00Z   \n",
       "2       2020-08-12T00:00:00Z   \n",
       "3       2020-08-12T00:00:00Z   \n",
       "4       2020-08-12T00:00:00Z   \n",
       "...                      ...   \n",
       "447005  2021-03-09T00:00:00Z   \n",
       "447006  2021-03-09T00:00:00Z   \n",
       "447007  2021-03-09T00:00:00Z   \n",
       "447008  2021-03-09T00:00:00Z   \n",
       "447009  2021-03-09T00:00:00Z   \n",
       "\n",
       "                                                     tags  view_count   likes  \\\n",
       "0       pietro|guedes|ingrid|ohara|pingrid|vlog|amigos...      263835   85095   \n",
       "1       JYP Entertainment|JYP|ITZY|있지|ITZY Video|ITZY ...     6000070  714310   \n",
       "2       OH JULIANA PARÓDIA|MC Niack PARÓDIA|PARÓDIAS|A...     2296748   39761   \n",
       "3       Riot|Riot Games|League of Legends|lol|trailer|...      300510   46222   \n",
       "4       The Noite|The Noite com Danilo Gentili|Danilo ...      327235   22059   \n",
       "...                                                   ...         ...     ...   \n",
       "447005  CrankGameplays|Crank Gameplays|break|youtuber ...      992338  141314   \n",
       "447006  dazn|boxing|highlights|full fight|ko|knockout|...     5792329   59960   \n",
       "447007  NBC|NBC network|tv|tv shows|entertainment|epis...     1180311   12383   \n",
       "447008              sidemen|sidemen sunday|#sidemensunday    12185918  834816   \n",
       "447009                                             [None]     1268004   53940   \n",
       "\n",
       "        dislikes  comment_count  \\\n",
       "0            487           4500   \n",
       "1          15176          31040   \n",
       "2           5484              0   \n",
       "3            242           2748   \n",
       "4           3972           2751   \n",
       "...          ...            ...   \n",
       "447005       614          12578   \n",
       "447006      6590          10029   \n",
       "447007      3376           2384   \n",
       "447008      3940          63330   \n",
       "447009       356           2914   \n",
       "\n",
       "                                        thumbnail_link  \n",
       "0       https://i.ytimg.com/vi/s9FH4rDMvds/default.jpg  \n",
       "1       https://i.ytimg.com/vi/jbGRowa5tIk/default.jpg  \n",
       "2       https://i.ytimg.com/vi/3EfkCrXKZNs/default.jpg  \n",
       "3       https://i.ytimg.com/vi/gBjox7vn3-g/default.jpg  \n",
       "4       https://i.ytimg.com/vi/npoUGx7UW7o/default.jpg  \n",
       "...                                                ...  \n",
       "447005  https://i.ytimg.com/vi/FGCPL_0YOYg/default.jpg  \n",
       "447006  https://i.ytimg.com/vi/Fbr55An8VPI/default.jpg  \n",
       "447007  https://i.ytimg.com/vi/cOzOXMfG3GQ/default.jpg  \n",
       "447008  https://i.ytimg.com/vi/VYEtNWp5VgA/default.jpg  \n",
       "447009  https://i.ytimg.com/vi/mKxuIKTr-5w/default.jpg  \n",
       "\n",
       "[447010 rows x 13 columns]"
      ]
     },
     "execution_count": 17,
     "metadata": {},
     "output_type": "execute_result"
    }
   ],
   "source": [
    "all_data = all_data.reset_index()\n",
    "all_data = all_data.drop([\"index\"], axis=1)\n",
    "# all_data = all_data.drop([\"level_0\"], axis=1)\n",
    "all_data"
   ]
  },
  {
   "cell_type": "code",
   "execution_count": 18,
   "metadata": {},
   "outputs": [],
   "source": [
    "all_data.insert(0, \"lang\", \"unknown\")"
   ]
  },
  {
   "cell_type": "code",
   "execution_count": 19,
   "metadata": {},
   "outputs": [],
   "source": [
    "# all_data.to_csv(\"./csv/youtrend_merged.csv\",quoting=1,index=0,encoding=\"utf-8\")"
   ]
  },
  {
   "cell_type": "code",
   "execution_count": 20,
   "metadata": {},
   "outputs": [],
   "source": [
    "# Language detection"
   ]
  },
  {
   "cell_type": "code",
   "execution_count": 21,
   "metadata": {},
   "outputs": [],
   "source": [
    "# data_lang = all_data[['video_id', 'title', 'lang']]\n",
    "# dict_lang = data_lang.set_index('video_id').T.to_dict('list')\n",
    "# # dict_lang\n",
    "# # {vid: [title, lang]}\n",
    "\n",
    "# import pickle\n",
    "# a = dict_lang\n",
    "# with open('langs.pickle', 'wb') as langfile:\n",
    "#     pickle.dump(a, langfile, protocol=pickle.HIGHEST_PROTOCOL)"
   ]
  },
  {
   "cell_type": "code",
   "execution_count": 22,
   "metadata": {},
   "outputs": [],
   "source": [
    "import pickle\n",
    "with open('./variables/googletrans.pickle', 'rb') as langfile:\n",
    "    dict_lang = pickle.load(langfile)\n",
    "# dict_lang\n",
    "# {vid: [title, lang]}"
   ]
  },
  {
   "cell_type": "code",
   "execution_count": 24,
   "metadata": {},
   "outputs": [],
   "source": [
    "for i in range(all_data.shape[0]):\n",
    "    vid = all_data['video_id'][i]\n",
    "    try:\n",
    "        all_data.at[i, 'lang'] = dict_lang[vid][1]\n",
    "    except:\n",
    "#         # update dict_lang\n",
    "#         dict_lang[vid] = [title, 'unknown']\n",
    "        pass"
   ]
  },
  {
   "cell_type": "code",
   "execution_count": null,
   "metadata": {},
   "outputs": [],
   "source": [
    "# with open('./variables/googletrans.pickle', 'wb') as langfile:\n",
    "#     # Save googletrans results in dict_lang\n",
    "\n",
    "#     pickle.dump(dict_lang, langfile, protocol=pickle.HIGHEST_PROTOCOL)"
   ]
  },
  {
   "cell_type": "code",
   "execution_count": 25,
   "metadata": {},
   "outputs": [],
   "source": [
    "with open('./variables/langdetect.pickle','rb') as file:\n",
    "    langs_ld = pickle.load(file)\n",
    "# language detection results from langdetect, for temporary use"
   ]
  },
  {
   "cell_type": "code",
   "execution_count": 26,
   "metadata": {},
   "outputs": [],
   "source": [
    "for i in range(all_data.shape[0]):\n",
    "    vid = all_data['video_id'][i]\n",
    "    try:\n",
    "        all_data.at[i, 'lang'] = langs_ld[vid][1]\n",
    "    except:\n",
    "        pass"
   ]
  },
  {
   "cell_type": "code",
   "execution_count": 27,
   "metadata": {},
   "outputs": [],
   "source": [
    "all_data.to_csv(\"./csv/youtrend_merged.csv\",quoting=1,index=0,encoding=\"utf-8\")"
   ]
  }
 ],
 "metadata": {
  "kernelspec": {
   "display_name": "Python 3",
   "language": "python",
   "name": "python3"
  },
  "language_info": {
   "codemirror_mode": {
    "name": "ipython",
    "version": 3
   },
   "file_extension": ".py",
   "mimetype": "text/x-python",
   "name": "python",
   "nbconvert_exporter": "python",
   "pygments_lexer": "ipython3",
   "version": "3.8.3"
  }
 },
 "nbformat": 4,
 "nbformat_minor": 4
}
